{
 "cells": [
  {
   "cell_type": "markdown",
   "metadata": {
    "id": "1pCTdOHonv5f"
   },
   "source": [
    "# Módulo 2\n",
    "\n",
    "## 2.3 Instruções e Expressões\n",
    "\n",
    "### Q1\n",
    "\n",
    "Faça um programa que armazene o valor de 20 reais de salário por hora de um trabalhador, e o número de 40 horas trabalhadas na semana. Com essas informações, calcule e imprima:\n",
    "- Salário semanal bruto\n",
    "- Valor descontado por semana INSS (10% do bruto)\n",
    "- Valor descontado por semana pelo sindicato (5% do bruto)\n",
    "- Salário semanal líquido (Bruto - Descontos)"
   ]
  },
  {
   "cell_type": "code",
   "execution_count": 3,
   "metadata": {
    "id": "hVbX0I97nj6M"
   },
   "outputs": [
    {
     "name": "stdout",
     "output_type": "stream",
     "text": [
      " O salário semanal bruto é:\n",
      "800\n",
      "O valor descontado por semana INSS é:\n",
      "80.0\n",
      "O valor descontado por semana pelo sindicato é:\n",
      "40.0\n",
      "O salário semanal líquido é:\n",
      "680.0\n"
     ]
    }
   ],
   "source": [
    "## Escreva e execute seu código aqui\n",
    "hora_semana= 40\n",
    "salario_hora= 20\n",
    "salario_semanal = hora_semana * salario_hora\n",
    "desconto_INSS = 10/100 * salario_semanal\n",
    "desconto_sindicato = salario_semanal * 5/100\n",
    "salario_liquido = salario_semanal - (desconto_INSS + desconto_sindicato)\n",
    "print(\" O salário semanal bruto é:\")\n",
    "print (salario_semanal)\n",
    "print(\"O valor descontado por semana INSS é:\")\n",
    "print (desconto_INSS)\n",
    "print(\"O valor descontado por semana pelo sindicato é:\")\n",
    "print(desconto_sindicato)\n",
    "print(\"O salário semanal líquido é:\")\n",
    "print(salario_liquido)"
   ]
  },
  {
   "cell_type": "markdown",
   "metadata": {
    "id": "pIxKX9J2oGZ1"
   },
   "source": [
    "### Q2\n",
    "\n",
    "Altere o programa anterior para a partir dos valores de horas trabalhadas por semana e salário por hora, calcular **em somente duas instruções**:\n",
    "- Salário semanal bruto\n",
    "- Salário semanal líquido com todos os descontos. Para a segunda instrução, realize todos os cálculos aritméticos em uma expressão composta.\n"
   ]
  },
  {
   "cell_type": "code",
   "execution_count": 12,
   "metadata": {
    "id": "pAHw9Xf9oGoi"
   },
   "outputs": [],
   "source": [
    "## Escreva e execute seu código aqui\n",
    "hora_semana= 40\n",
    "salario_hora= 20\n",
    "salario_bruto= salario_hora * hora_semana\n",
    "salario_liquido = salario_bruto - (salario_bruto * 0.1 + salario_bruto * 0.05)\n"
   ]
  },
  {
   "cell_type": "markdown",
   "metadata": {
    "id": "m8tlHRuWpBOB"
   },
   "source": [
    "### Q3\n",
    "\n",
    "Você está desenvolvendo um software de conversão de moeda e precisa calcular o valor equivalente em yuan chinês a partir de uma quantia em real. A taxa de câmbio é de 0.69 BRL (real) para 1 CNY (yuan). Escreva um programa que define em uma variável uma quantia em reais (BRL) e calcula o valor equivalente em yuan (CNY). Imprima o resultado."
   ]
  },
  {
   "cell_type": "code",
   "execution_count": 8,
   "metadata": {
    "id": "2bPw7uF6oeL9"
   },
   "outputs": [
    {
     "name": "stdout",
     "output_type": "stream",
     "text": [
      "O valor equivalente em yuan (CNY) é:\n",
      "724.6376811594204\n"
     ]
    }
   ],
   "source": [
    "## Escreva e execute seu código aqui\n",
    "BRL = 500\n",
    "CNY = BRL / 0.69\n",
    "print (\"O valor equivalente em yuan (CNY) é:\")\n",
    "print (CNY)"
   ]
  },
  {
   "cell_type": "markdown",
   "metadata": {
    "id": "-Na3ltDCp74A"
   },
   "source": [
    "### Q4\n",
    "\n",
    "Você é um treinador de corrida e deseja calcular a velocidade média que um atleta precisa manter para completar a Maratona Internacional de São Silvestre, que tem uma distância total de 42.195 km. A fórmula para calcular a velocidade média ($v\\_media$) é dada por $v\\_media = \\frac{distancia}{tempo}$ . Escreva um programa em Python para calcular a velocidade média necessária para completar a maratona em 3 horas.\n",
    "\n",
    "**Calcule e imprima o resultado em metros/segundo**, ou seja, converta a distância de quilômetros para metros ($metro = \\frac{km}{1000}$) e a velocidade de horas para segundos $(segundo = \\frac{hora}{3600})$."
   ]
  },
  {
   "cell_type": "code",
   "execution_count": 18,
   "metadata": {
    "id": "Bn6l8kcSrE4L"
   },
   "outputs": [
    {
     "name": "stdout",
     "output_type": "stream",
     "text": [
      "A velocidade média que um atleta precisa manter para completar a maratona em 3 horas é:\n",
      "3.906944444444444\n"
     ]
    }
   ],
   "source": [
    "## Escreva e execute seu código aqui\n",
    "d_km= 42.195\n",
    "t_h= 3\n",
    "vm_km_h= d_km / t_h\n",
    "vm_m_s= vm_km_h/3.6\n",
    "print (\"A velocidade média que um atleta precisa manter para completar a maratona em 3 horas é:\")\n",
    "print (vm_m_s)"
   ]
  },
  {
   "cell_type": "code",
   "execution_count": null,
   "metadata": {},
   "outputs": [],
   "source": []
  }
 ],
 "metadata": {
  "colab": {
   "provenance": []
  },
  "kernelspec": {
   "display_name": "Python 3 (ipykernel)",
   "language": "python",
   "name": "python3"
  },
  "language_info": {
   "codemirror_mode": {
    "name": "ipython",
    "version": 3
   },
   "file_extension": ".py",
   "mimetype": "text/x-python",
   "name": "python",
   "nbconvert_exporter": "python",
   "pygments_lexer": "ipython3",
   "version": "3.12.7"
  }
 },
 "nbformat": 4,
 "nbformat_minor": 4
}
