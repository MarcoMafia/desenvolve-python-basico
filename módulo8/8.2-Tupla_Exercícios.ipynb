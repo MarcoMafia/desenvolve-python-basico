{
 "cells": [
  {
   "cell_type": "markdown",
   "id": "0d5035b5",
   "metadata": {},
   "source": [
    "# Tupla\n",
    "\n",
    "## Aula 8.2"
   ]
  },
  {
   "cell_type": "markdown",
   "id": "0bdece85",
   "metadata": {},
   "source": [
    "### Q1. \n",
    "\n",
    "Escreva uma função ```calcula_area_perimetro``` que recebe **apenas um parâmetro** ```dimensoes``` e calcula a área e o perímetro a partir das dimensões dadas. \n",
    "- ```dimensoes``` é uma tupla (largura, comprimento) com as dimensões de um terreno retangular\n",
    "- Sua função deve calcular e retornar as seguintes operações\n",
    "   - $area = largura \\times comprimento$\n",
    "   - $perimetro = 2\\times(largura + comprimento)$\n"
   ]
  },
  {
   "cell_type": "code",
   "execution_count": 4,
   "id": "0a258eba",
   "metadata": {},
   "outputs": [],
   "source": [
    "# Implemente aqui a função calcula_area_perimetro\n",
    "def calcula_area_perimetro(dimensoes):\n",
    "    area = largura * comprimento\n",
    "    perimetro = 2*(largura + comprimento)\n",
    "    return area, perimetro"
   ]
  },
  {
   "cell_type": "code",
   "execution_count": 5,
   "id": "e1866c04",
   "metadata": {},
   "outputs": [
    {
     "name": "stdout",
     "output_type": "stream",
     "text": [
      "(35, 24) <class 'tuple'>\n"
     ]
    }
   ],
   "source": [
    "# Complete o exemplo de uso abaixo\n",
    "largura = 5\n",
    "comprimento = 7\n",
    "dimensoes = (largura, comprimento)\n",
    "retorno = calcula_area_perimetro(dimensoes)## complete aqui a chamada da função\n",
    "print(retorno, type(retorno))"
   ]
  },
  {
   "cell_type": "markdown",
   "id": "cbdcb986",
   "metadata": {},
   "source": [
    "### Q2.\n",
    "\n",
    "Dada uma string, imprima todas as vogais que aparecem na string, bem como todos os índices onde elas ocorrem. Para isso, use a função ```enumerate```.\n"
   ]
  },
  {
   "cell_type": "code",
   "execution_count": 26,
   "id": "1f6b1f2d",
   "metadata": {},
   "outputs": [
    {
     "name": "stdout",
     "output_type": "stream",
     "text": [
      "0 - O\n",
      "3 - a\n",
      "5 - o\n",
      "8 - o\n",
      "9 - e\n",
      "10 - u\n",
      "12 - a\n",
      "15 - o\n",
      "16 - u\n",
      "18 - a\n",
      "21 - a\n",
      "23 - A\n",
      "25 - i\n",
      "27 - e\n"
     ]
    }
   ],
   "source": [
    "frase = \"O rato roeu a roupa da Alice\"\n",
    "vogais = 'AEIOUaeiou'\n",
    "for letra in frase:\n",
    "    for i, letra in enumerate(frase):\n",
    "        if letra in vogais:\n",
    "            print(i, '-', letra)\n",
    "    break\n",
    "# Implemente aqui sua solução"
   ]
  },
  {
   "cell_type": "markdown",
   "id": "8d46663f",
   "metadata": {
    "jp-MarkdownHeadingCollapsed": true
   },
   "source": [
    "### Q3.\n",
    "\n",
    "Escreva uma função em Python chamada ```ordenar_tuplas``` que recebe uma lista de tuplas, cada uma contendo o nome de um aluno e sua respectiva média, e retorna uma nova lista ordenada em ordem decrescente de médias."
   ]
  },
  {
   "cell_type": "code",
   "execution_count": 21,
   "id": "469f2e6e",
   "metadata": {},
   "outputs": [],
   "source": [
    "# Implemente aqui a função ordenar_tuplas\n",
    "def ordenar_tuplas(alunos_notas):\n",
    "    lista_resultado = sorted(alunos_notas, key=lambda x: x[-1])\n",
    "    return lista_resultado[::-1]\n",
    "            "
   ]
  },
  {
   "cell_type": "code",
   "execution_count": 22,
   "id": "1972c62b",
   "metadata": {},
   "outputs": [
    {
     "name": "stdout",
     "output_type": "stream",
     "text": [
      "[('Charlie', 9.0), ('David', 8.8), ('Alice', 8.5), ('Bob', 7.2)]\n"
     ]
    }
   ],
   "source": [
    "# Exemplo de uso:\n",
    "alunos_notas = [('Alice', 8.5), ('Bob', 7.2), ('Charlie', 9.0), ('David', 8.8)]\n",
    "resultado = ordenar_tuplas(alunos_notas)\n",
    "print(resultado)\n",
    "# Saída esperada: [('Charlie', 9.0), ('David', 8.8), ('Alice', 8.5), ('Bob', 7.2)]"
   ]
  },
  {
   "cell_type": "markdown",
   "id": "e0268fae",
   "metadata": {},
   "source": [
    "### Q4.\n",
    "\n",
    "Escreva uma função em Python chamada ```comprimir_tuplas``` que recebe uma lista de tuplas, cada uma contendo uma palavra e um número, e retorna uma nova lista de tuplas onde palavras idênticas são agrupadas e seus números são somados.\n",
    "\n"
   ]
  },
  {
   "cell_type": "code",
   "execution_count": 31,
   "id": "30a221f3",
   "metadata": {},
   "outputs": [],
   "source": [
    "# Implemente aqui a função comprimir_tuplas\n",
    "def comprimir_tuplas(tuplas_originais):\n",
    "    lista_final = []\n",
    "    for palavra, numero in tuplas_originais:\n",
    "        for i in range(len(lista_final)):\n",
    "            if lista_final[i][0] == palavra:\n",
    "                lista_final[i] = (palavra, lista_final[i][1] + numero)\n",
    "                break\n",
    "        else:\n",
    "            lista_final.append((palavra, numero))\n",
    "    return lista_final"
   ]
  },
  {
   "cell_type": "code",
   "execution_count": 32,
   "id": "80972bac",
   "metadata": {},
   "outputs": [
    {
     "name": "stdout",
     "output_type": "stream",
     "text": [
      "[('maçã', 8), ('banana', 5), ('laranja', 1)]\n"
     ]
    }
   ],
   "source": [
    "# Exemplo de uso:\n",
    "tuplas_originais = [('maçã', 3), ('banana', 2), ('maçã', 5), ('laranja', 1), ('banana', 3)]\n",
    "resultado = comprimir_tuplas(tuplas_originais)\n",
    "print(resultado)\n",
    "# Saída esperada: [('maçã', 8), ('banana', 5), ('laranja', 1)]"
   ]
  },
  {
   "cell_type": "markdown",
   "id": "649a5082",
   "metadata": {},
   "source": [
    "### Q5. \n",
    "\n",
    "- Escreva um script que peça o nome e a idade de todos na fila de uma balada. Crie uma lista de tuplas com os pares ```(nome, idade)``` de cada um. \n",
    "- Em seguida crie e imprima duas tuplas apenas com os nomes, uma com os menores de idade que não poderão entrar, e uma com os maiores de idade (```idade >= 18```). \n",
    "\n"
   ]
  },
  {
   "cell_type": "code",
   "execution_count": null,
   "id": "47cb0573",
   "metadata": {},
   "outputs": [],
   "source": [
    "## Implemente aqui sua solução\n",
    "def entrada(qtd_pessoa):\n",
    "    pessoas = []\n",
    "    for i in range(qtd_pessoa):\n",
    "        nome = input(f\"Digite nome da pessoa {i+1}: \")\n",
    "        idade = int(input(f\"Digite a idade da pessoa {i+1}: \"))\n",
    "        pessoa = (nome, idade)\n",
    "        pessoas.append(pessoa)\n",
    "    return pessoas\n",
    "def pode_entrar(pessoas):\n",
    "    maior_idade = []\n",
    "    menor_idade = []\n",
    "    for nome, idade in pessoas:\n",
    "        if idade >=18:\n",
    "            maior_idade.append(nome)\n",
    "        else:\n",
    "            menor_idade.append(nome)\n",
    "    return maior_idade, menor_idade\n",
    "qtd_pessoa = int(input(\"Quantas pessoas têm na fila? \"))\n",
    "pessoas = entrada(qtd_pessoa)\n",
    "maiores, menores = pode_entrar(pessoas)\n",
    "print(\"\\nMaiores de idade (podem entrar):\", maiores)\n",
    "print(\"Menores de idade (não podem entrar):\", menores)"
   ]
  },
  {
   "cell_type": "code",
   "execution_count": null,
   "id": "d0edbb24-5e27-4943-94bb-e182b88b0598",
   "metadata": {},
   "outputs": [],
   "source": []
  }
 ],
 "metadata": {
  "kernelspec": {
   "display_name": "Python 3 (ipykernel)",
   "language": "python",
   "name": "python3"
  },
  "language_info": {
   "codemirror_mode": {
    "name": "ipython",
    "version": 3
   },
   "file_extension": ".py",
   "mimetype": "text/x-python",
   "name": "python",
   "nbconvert_exporter": "python",
   "pygments_lexer": "ipython3",
   "version": "3.12.7"
  }
 },
 "nbformat": 4,
 "nbformat_minor": 5
}
